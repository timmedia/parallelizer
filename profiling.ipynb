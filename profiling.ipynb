{
 "cells": [
  {
   "cell_type": "markdown",
   "metadata": {},
   "source": [
    "# Profiling the unoptimized model\n",
    "In order to understand what the total computation time is composed of, we profile an execution of the unoptimized simulation. A parallelization attempt might be sensible if the function calls that take most time can be refactored to run across multiple workers in parallel.\n",
    "\n",
    "Here we use cProfile to perform the profiling. (For the data used in the report this was done on a consumer-grade laptop.)"
   ]
  },
  {
   "cell_type": "code",
   "execution_count": 1,
   "metadata": {},
   "outputs": [],
   "source": [
    "import cProfile\n",
    "from unoptimized.nmwc_model.solver import run_unoptimized"
   ]
  },
  {
   "cell_type": "code",
   "execution_count": 2,
   "metadata": {},
   "outputs": [
    {
     "name": "stdout",
     "output_type": "stream",
     "text": [
      "Writing output...\n",
      "\n",
      "Writing output...\n",
      "\n",
      "Writing output...\n",
      "\n",
      "Writing output...\n",
      "\n",
      "Writing output...\n",
      "\n",
      "Writing output...\n",
      "\n",
      "Writing output...\n",
      "\n",
      "Writing output...\n",
      "\n",
      "Writing output...\n",
      "\n",
      "Writing output...\n",
      "\n",
      "Writing output...\n",
      "\n",
      "Elapsed computation time without writing: 468.986 s\n",
      "\n",
      "Start wrtiting output.\n",
      "\n",
      "Writing to file output_unoptimized.npz \n",
      "\n",
      "Output contains 11 output steps\n",
      "\n"
     ]
    }
   ],
   "source": [
    "cProfile.run(\"run_unoptimized()\", \"unoptimized_cProfile\")"
   ]
  },
  {
   "cell_type": "markdown",
   "metadata": {},
   "source": [
    "Let's now analyze the saved profile using pstats. What we're interested in is the function calls from inside the `solver.py` entrypoint and how they constitute the total execution time."
   ]
  },
  {
   "cell_type": "code",
   "execution_count": 3,
   "metadata": {},
   "outputs": [],
   "source": [
    "import pstats\n",
    "import matplotlib.pyplot as plt\n",
    "import numpy as np\n",
    "import io"
   ]
  },
  {
   "cell_type": "code",
   "execution_count": 4,
   "metadata": {},
   "outputs": [
    {
     "data": {
      "text/plain": [
       "{'run_unoptimized': 469.49452078,\n",
       " 'kessler': 230.330242733,\n",
       " 'horizontal_diffusion': 91.64028166700001,\n",
       " 'prog_moisture': 42.321823120000005,\n",
       " 'diag_montgomery': 27.182543084000002,\n",
       " 'diag_height': 26.801463656000003,\n",
       " 'prog_isendens': 20.477682519000002,\n",
       " 'prog_velocity': 15.763902967000002,\n",
       " 'diag_pressure': 8.294799925000001}"
      ]
     },
     "execution_count": 4,
     "metadata": {},
     "output_type": "execute_result"
    }
   ],
   "source": [
    "s = io.StringIO()\n",
    "ps = pstats.Stats('unoptimized_cProfile', stream=s)\n",
    "ps.sort_stats('cumulative')\n",
    "profile_data = ps.stats\n",
    "\n",
    "cumulative_times = {}\n",
    "\n",
    "for func_name, func_stats in profile_data.items():\n",
    "    callers = func_stats[4]\n",
    "    filename = func_name[0] \n",
    "    \n",
    "    for caller, caller_stats in callers.items():\n",
    "        caller_filename = caller[0]  # Filename of the caller\n",
    "        if \"solver.py\" in filename or \"solver.py\" in caller_filename and \"nmwc_model\" in filename:\n",
    "            cumulative_time = func_stats[3]  # Cumulative time\n",
    "            cumulative_times[func_name[2]] = cumulative_time\n",
    "\n",
    "cumulative_times = {k: v for k, v in sorted(cumulative_times.items(), key=lambda item: -item[1]) if v > 1}\n",
    "cumulative_times"
   ]
  },
  {
   "cell_type": "markdown",
   "metadata": {},
   "source": [
    "Finally, we visualize the breakdown of the total computation time inside the `solver.py` file, as distrubuted among the calls of functions that are part of the simulation."
   ]
  },
  {
   "cell_type": "code",
   "execution_count": 5,
   "metadata": {},
   "outputs": [
    {
     "data": {
      "image/png": "[encoded data removed]",
      "text/plain": [
       "<Figure size 720x360 with 1 Axes>"
      ]
     },
     "metadata": {
      "needs_background": "light"
     },
     "output_type": "display_data"
    }
   ],
   "source": [
    "fig, ax1 = plt.subplots(nrows=1, ncols=1, figsize=(10, 5), sharex=True)\n",
    "\n",
    "total_offset = cumulative_times[\"run_unoptimized\"]\n",
    "\n",
    "for i, (name, time) in enumerate(cumulative_times.items()):\n",
    "    left_offset = (total_offset := total_offset - time) if name != \"run_unoptimized\" else 0\n",
    "    ax1.barh(-i, time, left=left_offset, color=\"k\" if name == \"run_unoptimized\" else \"gray\")\n",
    "    ax1.text(-5, -i, name, horizontalalignment=\"right\", verticalalignment=\"center\")\n",
    "    ax1.text(left_offset + time + 5, -i, f\"{time:3.0f}\", horizontalalignment=\"left\", verticalalignment=\"center\")\n",
    "    if name != \"run_unoptimized\":\n",
    "        ax1.vlines(left_offset + time, -i + 1.4, -i - 0.35, color=\"k\", linewidth=1, linestyles=\"dashed\")\n",
    "\n",
    "last_y = len(cumulative_times)\n",
    "ax1.barh(-last_y, left_offset, color=\"gray\")\n",
    "ax1.text(-5, -last_y, \"other\", horizontalalignment=\"right\", verticalalignment=\"center\")\n",
    "ax1.text(left_offset + 5, -last_y, f\"{left_offset:3.0f}\", horizontalalignment=\"left\", verticalalignment=\"center\")\n",
    "ax1.vlines(left_offset, -last_y + 1.4, -last_y - 0.35, color=\"k\", linewidth=1, linestyles=\"dashed\")\n",
    "\n",
    "ax1.axes.get_yaxis().set_visible(False)\n",
    "ax1.set_xlabel(\"Cumulative time [s]\")\n",
    "ax1.set_xticks(np.arange(0, 730, 100))\n",
    "ax1.set_xlim((-180, 740))\n",
    "ax1.set_ylim(-last_y - 0.5, 0.5)\n",
    "ax1.vlines(0, -last_y - 0.5, 0.5, color=\"k\", linewidth=1)\n",
    "ax1.spines['top'].set_visible(False)\n",
    "ax1.spines['right'].set_visible(False)\n",
    "ax1.spines['left'].set_visible(False)"
   ]
  },
  {
   "cell_type": "code",
   "execution_count": null,
   "metadata": {},
   "outputs": [],
   "source": []
  }
 ],
 "metadata": {
  "kernelspec": {
   "display_name": "Python 3",
   "language": "python",
   "name": "python3"
  },
  "language_info": {
   "codemirror_mode": {
    "name": "ipython",
    "version": 3
   },
   "file_extension": ".py",
   "mimetype": "text/x-python",
   "name": "python",
   "nbconvert_exporter": "python",
   "pygments_lexer": "ipython3",
   "version": "3.10.12"
  }
 },
 "nbformat": 4,
 "nbformat_minor": 2
}
